{
 "cells": [
  {
   "cell_type": "code",
   "execution_count": 158,
   "id": "f1c64ad4",
   "metadata": {},
   "outputs": [
    {
     "name": "stdout",
     "output_type": "stream",
     "text": [
      "Uni name  Hogwarts\n",
      "Uni Location  pindi\n",
      "department name Black Magic\n",
      "Programs offered\n",
      "0 curses\n",
      "1 incantations\n",
      "2 spacial Magic\n"
     ]
    }
   ],
   "source": [
    "# class with parent and child\n",
    "class Fast:\n",
    "    def __init__(self,iname,loc):\n",
    "        self.iname = iname\n",
    "        self.loc = loc\n",
    "\n",
    "    def display(self):\n",
    "        print(\"Uni name \",self.iname)\n",
    "        print(\"Uni Location \",self.loc)\n",
    "\n",
    "class department:\n",
    "    def __init__(self, dname, programs,uname,ulocation):\n",
    "        Fast.__init__(self,uname,ulocation)\n",
    "        self.dname = dname\n",
    "        self.programs = programs\n",
    "    def display(self):\n",
    "        Fast.display(self)\n",
    "        print(f\"department name {self.dname}\")\n",
    "        print(\"Programs offered\")\n",
    "        # using enumerate\n",
    "        for i ,j in enumerate(self.programs):\n",
    "            print(i,j)\n",
    "\n",
    "obj1 = department(\"Black Magic\",[\"curses\",\"incantations\",\"spacial Magic\"],\"Hogwarts\",\"pindi\")\n",
    "obj1.display()"
   ]
  },
  {
   "cell_type": "code",
   "execution_count": null,
   "id": "c9adb7b1",
   "metadata": {},
   "outputs": [],
   "source": []
  },
  {
   "cell_type": "code",
   "execution_count": 140,
   "id": "34af9cc1",
   "metadata": {},
   "outputs": [
    {
     "name": "stdout",
     "output_type": "stream",
     "text": [
      "racecar\n",
      "madam\n"
     ]
    }
   ],
   "source": [
    "# task-1\n",
    "listy= [\"helol\",'hi',\"bilal\",'k',\"ndanadadkq\",\"anjac\",\"racecar\",\"madam\"]\n",
    "for i in listy:\n",
    "    if(len(i) >=2):\n",
    "        if(i[0] == i[-1]):\n",
    "            print(i)"
   ]
  },
  {
   "cell_type": "code",
   "execution_count": 141,
   "id": "c9192fd4",
   "metadata": {},
   "outputs": [
    {
     "name": "stdout",
     "output_type": "stream",
     "text": [
      "X group ['xafar', 'Xrays', 'Xaviar', 'Xforce']\n",
      "sorted list ['anjac', 'bilal', 'helol', 'hi', 'k', 'madam', 'ndanadadkq', 'racecar']\n"
     ]
    }
   ],
   "source": [
    "#task-2\n",
    "listy= [\"helol\",\"xafar\",'hi',\"bilal\",'k',\"Xrays\",\"ndanadadkq\",\"anjac\",\"Xaviar\",\"Xforce\",\"racecar\",\"madam\"]\n",
    "group = []\n",
    "other = []\n",
    "for i in range(0,len(listy)):\n",
    "    if listy[i][0] == 'x' or listy[i][0] == 'X':\n",
    "        group.append(listy[i])\n",
    "    else:\n",
    "        other.append(listy[i])\n",
    "\n",
    "final = sorted(other)\n",
    "print(\"X group\",group)\n",
    "print(\"sorted list\",final)"
   ]
  },
  {
   "cell_type": "code",
   "execution_count": 142,
   "id": "c26dd5c6",
   "metadata": {},
   "outputs": [
    {
     "data": {
      "text/plain": [
       "['anjac', 'helol', 'racecar', 'madam', 'ndanadadkq', 'k', 'bilal', 'hi']"
      ]
     },
     "execution_count": 142,
     "metadata": {},
     "output_type": "execute_result"
    }
   ],
   "source": [
    "#Task-3\n",
    "tupy = (\"helol\",'hi',\"bilal\",'k',\"ndanadadkq\",\"anjac\",\"racecar\",\"madam\")\n",
    "a = []\n",
    "b = []\n",
    "for i in tupy:\n",
    "    a.append(i[-1])\n",
    "    b.append(i)\n",
    "for i in range(len(a)):\n",
    "    for j in range(len(a)):\n",
    "        if a[i] <= a[j]:\n",
    "            b[i],b[j] = b[j],b[i]\n",
    "            \n",
    "b"
   ]
  },
  {
   "cell_type": "code",
   "execution_count": null,
   "id": "c40bf2e7",
   "metadata": {},
   "outputs": [],
   "source": []
  },
  {
   "cell_type": "code",
   "execution_count": 144,
   "id": "738c043a",
   "metadata": {},
   "outputs": [
    {
     "name": "stdout",
     "output_type": "stream",
     "text": [
      "[0, 0, 0, 0, 1, 1, 1, 1, 2, 2, 3, 4, 4, 5, 5, 6, 6, 7, 8, 8]\n"
     ]
    }
   ],
   "source": [
    "#Task 4\n",
    "def Task_4():\n",
    "    l1 = np.random.randint(9, size=10)\n",
    "    l2 = np.random.randint(9, size=10)\n",
    "    ll1 = sorted(l1)\n",
    "    ll2 = sorted(l2)\n",
    "    l3 = ll1 + ll2\n",
    "    l4 = sorted(l3)\n",
    "    print(l4)\n",
    "Task_4()"
   ]
  },
  {
   "cell_type": "code",
   "execution_count": 145,
   "id": "d81b7eb8",
   "metadata": {},
   "outputs": [
    {
     "name": "stdout",
     "output_type": "stream",
     "text": [
      "23\n",
      "Before Removing [1, 3, 1, 4, 5, 1, 5, 1, 1, 8, 7, 6, 6, 7, 7, 4, 1, 4, 1, 1, 8, 8, 4]\n",
      "After Removing  [1, 3, 1, 4, 5, 1, 5, 1, 8, 7, 6, 7, 4, 1, 4, 1, 8]\n"
     ]
    }
   ],
   "source": [
    "# Task-5\n",
    "l1 = [1,3,1,4,5,1,5,1,1,8,7,6,6,7,7,4,1,4,1,1,8,8,4]\n",
    "print(len(l1))\n",
    "print(\"Before Removing\",l1)\n",
    "indexes = []\n",
    "nums = []\n",
    "for i in range(0,len(l1)-1):\n",
    "    if(l1[i] == l1[i+1]):\n",
    "        indexes.append(i)\n",
    "#             l1.remove(i)\n",
    "    else:\n",
    "        nums.append(l1[i])\n",
    "        \n",
    "l1 = nums\n",
    "print(\"After Removing \",l1)"
   ]
  },
  {
   "cell_type": "markdown",
   "id": "cdb069f8",
   "metadata": {},
   "source": [
    "## Dataset preprocessing and Visualizations"
   ]
  },
  {
   "cell_type": "code",
   "execution_count": 146,
   "id": "f71f47a4",
   "metadata": {},
   "outputs": [],
   "source": [
    "import matplotlib.pyplot as plt\n",
    "import pandas as pd\n",
    "import numpy as np"
   ]
  },
  {
   "cell_type": "code",
   "execution_count": 147,
   "id": "aa4cddda",
   "metadata": {},
   "outputs": [
    {
     "data": {
      "text/html": [
       "<div>\n",
       "<style scoped>\n",
       "    .dataframe tbody tr th:only-of-type {\n",
       "        vertical-align: middle;\n",
       "    }\n",
       "\n",
       "    .dataframe tbody tr th {\n",
       "        vertical-align: top;\n",
       "    }\n",
       "\n",
       "    .dataframe thead th {\n",
       "        text-align: right;\n",
       "    }\n",
       "</style>\n",
       "<table border=\"1\" class=\"dataframe\">\n",
       "  <thead>\n",
       "    <tr style=\"text-align: right;\">\n",
       "      <th></th>\n",
       "      <th>country</th>\n",
       "      <th>beer_servings</th>\n",
       "      <th>spirit_servings</th>\n",
       "      <th>wine_servings</th>\n",
       "      <th>total_litres_of_pure_alcohol</th>\n",
       "      <th>continent</th>\n",
       "    </tr>\n",
       "  </thead>\n",
       "  <tbody>\n",
       "    <tr>\n",
       "      <th>0</th>\n",
       "      <td>Afghanistan</td>\n",
       "      <td>0</td>\n",
       "      <td>0</td>\n",
       "      <td>0</td>\n",
       "      <td>0.0</td>\n",
       "      <td>AS</td>\n",
       "    </tr>\n",
       "    <tr>\n",
       "      <th>1</th>\n",
       "      <td>Albania</td>\n",
       "      <td>89</td>\n",
       "      <td>132</td>\n",
       "      <td>54</td>\n",
       "      <td>4.9</td>\n",
       "      <td>EU</td>\n",
       "    </tr>\n",
       "    <tr>\n",
       "      <th>2</th>\n",
       "      <td>Algeria</td>\n",
       "      <td>25</td>\n",
       "      <td>0</td>\n",
       "      <td>14</td>\n",
       "      <td>0.7</td>\n",
       "      <td>AF</td>\n",
       "    </tr>\n",
       "    <tr>\n",
       "      <th>3</th>\n",
       "      <td>Andorra</td>\n",
       "      <td>245</td>\n",
       "      <td>138</td>\n",
       "      <td>312</td>\n",
       "      <td>12.4</td>\n",
       "      <td>EU</td>\n",
       "    </tr>\n",
       "    <tr>\n",
       "      <th>4</th>\n",
       "      <td>Angola</td>\n",
       "      <td>217</td>\n",
       "      <td>57</td>\n",
       "      <td>45</td>\n",
       "      <td>5.9</td>\n",
       "      <td>AF</td>\n",
       "    </tr>\n",
       "    <tr>\n",
       "      <th>...</th>\n",
       "      <td>...</td>\n",
       "      <td>...</td>\n",
       "      <td>...</td>\n",
       "      <td>...</td>\n",
       "      <td>...</td>\n",
       "      <td>...</td>\n",
       "    </tr>\n",
       "    <tr>\n",
       "      <th>188</th>\n",
       "      <td>Venezuela</td>\n",
       "      <td>333</td>\n",
       "      <td>100</td>\n",
       "      <td>3</td>\n",
       "      <td>7.7</td>\n",
       "      <td>SA</td>\n",
       "    </tr>\n",
       "    <tr>\n",
       "      <th>189</th>\n",
       "      <td>Vietnam</td>\n",
       "      <td>111</td>\n",
       "      <td>2</td>\n",
       "      <td>1</td>\n",
       "      <td>2.0</td>\n",
       "      <td>AS</td>\n",
       "    </tr>\n",
       "    <tr>\n",
       "      <th>190</th>\n",
       "      <td>Yemen</td>\n",
       "      <td>6</td>\n",
       "      <td>0</td>\n",
       "      <td>0</td>\n",
       "      <td>0.1</td>\n",
       "      <td>AS</td>\n",
       "    </tr>\n",
       "    <tr>\n",
       "      <th>191</th>\n",
       "      <td>Zambia</td>\n",
       "      <td>32</td>\n",
       "      <td>19</td>\n",
       "      <td>4</td>\n",
       "      <td>2.5</td>\n",
       "      <td>AF</td>\n",
       "    </tr>\n",
       "    <tr>\n",
       "      <th>192</th>\n",
       "      <td>Zimbabwe</td>\n",
       "      <td>64</td>\n",
       "      <td>18</td>\n",
       "      <td>4</td>\n",
       "      <td>4.7</td>\n",
       "      <td>AF</td>\n",
       "    </tr>\n",
       "  </tbody>\n",
       "</table>\n",
       "<p>193 rows × 6 columns</p>\n",
       "</div>"
      ],
      "text/plain": [
       "         country  beer_servings  spirit_servings  wine_servings  \\\n",
       "0    Afghanistan              0                0              0   \n",
       "1        Albania             89              132             54   \n",
       "2        Algeria             25                0             14   \n",
       "3        Andorra            245              138            312   \n",
       "4         Angola            217               57             45   \n",
       "..           ...            ...              ...            ...   \n",
       "188    Venezuela            333              100              3   \n",
       "189      Vietnam            111                2              1   \n",
       "190        Yemen              6                0              0   \n",
       "191       Zambia             32               19              4   \n",
       "192     Zimbabwe             64               18              4   \n",
       "\n",
       "     total_litres_of_pure_alcohol continent  \n",
       "0                             0.0        AS  \n",
       "1                             4.9        EU  \n",
       "2                             0.7        AF  \n",
       "3                            12.4        EU  \n",
       "4                             5.9        AF  \n",
       "..                            ...       ...  \n",
       "188                           7.7        SA  \n",
       "189                           2.0        AS  \n",
       "190                           0.1        AS  \n",
       "191                           2.5        AF  \n",
       "192                           4.7        AF  \n",
       "\n",
       "[193 rows x 6 columns]"
      ]
     },
     "execution_count": 147,
     "metadata": {},
     "output_type": "execute_result"
    }
   ],
   "source": [
    "df = pd.read_csv('drinks.csv') \n",
    "df"
   ]
  },
  {
   "cell_type": "code",
   "execution_count": 148,
   "id": "66ebdf16",
   "metadata": {},
   "outputs": [
    {
     "name": "stdout",
     "output_type": "stream",
     "text": [
      "Rows 193\n"
     ]
    }
   ],
   "source": [
    "# number od rows\n",
    "print(\"Rows\",len(df))"
   ]
  },
  {
   "cell_type": "code",
   "execution_count": 149,
   "id": "1c8614fa",
   "metadata": {},
   "outputs": [
    {
     "name": "stdout",
     "output_type": "stream",
     "text": [
      "country                          0\n",
      "beer_servings                    0\n",
      "spirit_servings                  0\n",
      "wine_servings                    0\n",
      "total_litres_of_pure_alcohol     0\n",
      "continent                       23\n",
      "dtype: int64\n",
      "country                         0\n",
      "beer_servings                   0\n",
      "spirit_servings                 0\n",
      "wine_servings                   0\n",
      "total_litres_of_pure_alcohol    0\n",
      "continent                       0\n",
      "dtype: int64\n"
     ]
    }
   ],
   "source": [
    "# dropping rows that have nan values\n",
    "print(df.isnull().sum())\n",
    "df = df.dropna().reset_index(drop=True)\n",
    "print(df.isnull().sum())"
   ]
  },
  {
   "cell_type": "code",
   "execution_count": 150,
   "id": "df2d54a4",
   "metadata": {},
   "outputs": [
    {
     "name": "stdout",
     "output_type": "stream",
     "text": [
      "0        0\n",
      "1       89\n",
      "2       25\n",
      "3      245\n",
      "4      217\n",
      "      ... \n",
      "165    333\n",
      "166    111\n",
      "167      6\n",
      "168     32\n",
      "169     64\n",
      "Name: beer_servings, Length: 170, dtype: int64\n"
     ]
    }
   ],
   "source": [
    "# function to print elements of the coulmn\n",
    "def DisplayColumnData(dat):\n",
    "    print(df[dat])\n",
    "DisplayColumnData(\"beer_servings\")"
   ]
  },
  {
   "cell_type": "code",
   "execution_count": 151,
   "id": "5f83f6fa",
   "metadata": {},
   "outputs": [
    {
     "data": {
      "image/png": "[encoded data removed]",
      "text/plain": [
       "<Figure size 432x288 with 1 Axes>"
      ]
     },
     "metadata": {
      "needs_background": "light"
     },
     "output_type": "display_data"
    }
   ],
   "source": [
    "# histogram\n",
    "var1 = df['beer_servings']\n",
    "var2 = df['spirit_servings']\n",
    "plt.hist(var1,  label='Beer Serving')\n",
    "plt.hist(var2,  label='Spirit Serving')\n",
    "plt.legend(loc='upper right')\n",
    "plt.ylabel(\"spirit Servings\")\n",
    "plt.show()"
   ]
  },
  {
   "cell_type": "code",
   "execution_count": 152,
   "id": "e0b23317",
   "metadata": {},
   "outputs": [
    {
     "data": {
      "image/png": "[encoded data removed]",
      "text/plain": [
       "<Figure size 432x288 with 1 Axes>"
      ]
     },
     "metadata": {},
     "output_type": "display_data"
    }
   ],
   "source": [
    "# pie chart and bar chart\n",
    "var1 = df['beer_servings']\n",
    "var2 = df['spirit_servings']\n",
    "var3 = df['wine_servings']\n",
    "pies = [sum(var1),sum(var2),sum(var3)]\n",
    "labely = [\"beer_servings\", \"spirit_servings\", \"wine_sevings\"]\n",
    "\n",
    "plt.pie(pies, labels = labely)\n",
    "plt.show() \n"
   ]
  },
  {
   "cell_type": "code",
   "execution_count": 153,
   "id": "efd65a81",
   "metadata": {},
   "outputs": [
    {
     "data": {
      "image/png": "[encoded data removed]",
      "text/plain": [
       "<Figure size 432x288 with 1 Axes>"
      ]
     },
     "metadata": {
      "needs_background": "light"
     },
     "output_type": "display_data"
    }
   ],
   "source": [
    "# bar chart\n",
    "var1 = df['beer_servings']\n",
    "var2 = df['spirit_servings']\n",
    "var3 = df['wine_servings']\n",
    "pies = [sum(var1),sum(var2),sum(var3)]\n",
    "labely = [\"beer_servings\", \"spirit_servings\", \"wine_sevings\"]\n",
    "\n",
    "plt.bar(labely,pies)\n",
    "plt.show() \n"
   ]
  },
  {
   "cell_type": "code",
   "execution_count": 154,
   "id": "00e0e480",
   "metadata": {},
   "outputs": [
    {
     "data": {
      "text/plain": [
       "<matplotlib.collections.PathCollection at 0x1fe88ef94c0>"
      ]
     },
     "execution_count": 154,
     "metadata": {},
     "output_type": "execute_result"
    },
    {
     "data": {
      "image/png": "[encoded data removed]",
      "text/plain": [
       "<Figure size 432x288 with 1 Axes>"
      ]
     },
     "metadata": {
      "needs_background": "light"
     },
     "output_type": "display_data"
    }
   ],
   "source": [
    "# scatter plot--2D\n",
    "var1 = df['beer_servings']\n",
    "var2 = df['spirit_servings']\n",
    "plt.scatter(var1,var2)"
   ]
  },
  {
   "cell_type": "code",
   "execution_count": 155,
   "id": "048a8db5",
   "metadata": {},
   "outputs": [
    {
     "data": {
      "image/png": "[encoded data removed]",
      "text/plain": [
       "<Figure size 432x288 with 1 Axes>"
      ]
     },
     "metadata": {
      "needs_background": "light"
     },
     "output_type": "display_data"
    }
   ],
   "source": [
    "# scatter plot #3D\n",
    "fig = plt.figure() \n",
    "\n",
    "# Creating an empty 3D axes of the plot\n",
    "a = fig.add_subplot(projection='3d')\n",
    "# labeling the x axis\n",
    "a.set_xlabel('x axis')\n",
    "# labeling the y axis\n",
    "a.set_ylabel('y axis')\n",
    "# labeling the z axis\n",
    "a.set_zlabel('z axis')\n",
    "\n",
    "# Data\n",
    "var1 = df['beer_servings']\n",
    "var2 = df['spirit_servings']\n",
    "a.scatter(var1, var2, c='b')\n",
    "# Showing the above 3D plot\n",
    "plt.show()"
   ]
  },
  {
   "cell_type": "code",
   "execution_count": null,
   "id": "1f21801b",
   "metadata": {},
   "outputs": [],
   "source": []
  }
 ],
 "metadata": {
  "kernelspec": {
   "display_name": "Python 3 (ipykernel)",
   "language": "python",
   "name": "python3"
  },
  "language_info": {
   "codemirror_mode": {
    "name": "ipython",
    "version": 3
   },
   "file_extension": ".py",
   "mimetype": "text/x-python",
   "name": "python",
   "nbconvert_exporter": "python",
   "pygments_lexer": "ipython3",
   "version": "3.9.12"
  }
 },
 "nbformat": 4,
 "nbformat_minor": 5
}
